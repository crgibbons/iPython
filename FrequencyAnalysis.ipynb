{
 "metadata": {
  "name": "",
  "signature": "sha256:d0d378959014f7c828874f4dd7abd3ac808ff62cdbf07bfef93e6ec1a1930d55"
 },
 "nbformat": 3,
 "nbformat_minor": 0,
 "worksheets": [
  {
   "cells": [
    {
     "cell_type": "markdown",
     "metadata": {},
     "source": [
      "Enter the text you want to decode in the first line of the next cell.  The output will be one big block of text that follows the uppercase convention for encrypted text."
     ]
    },
    {
     "cell_type": "code",
     "collapsed": false,
     "input": [
      "cipherText = \"GUVF VF GUR RAPELCGRQ GRKG LBH JNAG GB QRPBQR\"\n",
      "smashText = \"\"\n",
      "for line in cipherText:\n",
      "\tsmashText = smashText + line.upper()\n",
      "print smashText"
     ],
     "language": "python",
     "metadata": {},
     "outputs": [
      {
       "output_type": "stream",
       "stream": "stdout",
       "text": [
        "GUVF VF GUR RAPELCGRQ GRKG LBH JNAG GB QRPBQR\n"
       ]
      }
     ],
     "prompt_number": 1
    },
    {
     "cell_type": "markdown",
     "metadata": {},
     "source": [
      "Make sure to evaluate the cell above before running the cell below.  The output of the cell below is the relative frequency of each letter in the cipher alphabet."
     ]
    },
    {
     "cell_type": "code",
     "collapsed": false,
     "input": [
      "cipherAlphabet = ['A','B','C','D','E','F','G','H','I','J','K','L','M','N','O','P','Q','R','S','T','U','V','W','X','Y','Z']\n",
      "\n",
      "totalChars = float(smashText.count(\"\"))\n",
      "countList = [(letter,float(smashText.count(letter))/totalChars*100) for letter in cipherAlphabet]\n",
      "sortedValues = sorted(countList, key=lambda freq: freq[1], reverse = True)\n",
      "for i in sortedValues:\n",
      "\tprint i"
     ],
     "language": "python",
     "metadata": {},
     "outputs": [
      {
       "output_type": "stream",
       "stream": "stdout",
       "text": [
        "('G', 15.217391304347828)\n",
        "('R', 13.043478260869565)\n",
        "('B', 6.521739130434782)\n",
        "('Q', 6.521739130434782)\n",
        "('A', 4.3478260869565215)\n",
        "('F', 4.3478260869565215)\n",
        "('L', 4.3478260869565215)\n",
        "('P', 4.3478260869565215)\n",
        "('U', 4.3478260869565215)\n",
        "('V', 4.3478260869565215)\n",
        "('C', 2.1739130434782608)\n",
        "('E', 2.1739130434782608)\n",
        "('H', 2.1739130434782608)\n",
        "('J', 2.1739130434782608)\n",
        "('K', 2.1739130434782608)\n",
        "('N', 2.1739130434782608)\n",
        "('D', 0.0)\n",
        "('I', 0.0)\n",
        "('M', 0.0)\n",
        "('O', 0.0)\n",
        "('S', 0.0)\n",
        "('T', 0.0)\n",
        "('W', 0.0)\n",
        "('X', 0.0)\n",
        "('Y', 0.0)\n",
        "('Z', 0.0)\n"
       ]
      }
     ],
     "prompt_number": 2
    },
    {
     "cell_type": "markdown",
     "metadata": {},
     "source": [
      "The following is a frequency table for the english language:\n",
      "\n",
      "Based on this information, we might expect *G* and *R* to represent *e* and *t* in some order.  Based on positions in the text, we guess that *G : t* and *R : e*."
     ]
    },
    {
     "cell_type": "code",
     "collapsed": false,
     "input": [
      "plaintextAlphabet = ['A','B','C','D','E','F','G','H','I','J','K','L','M','N','O','P','Q','R','S','T','U','V','W','X','Y','Z']\n",
      "plaintextAlphabet = ['A','B','C','D','E','F','t','H','I','J','K','L','M','N','O','P','Q','e','S','T','U','V','W','X','Y','Z']"
     ],
     "language": "python",
     "metadata": {},
     "outputs": [],
     "prompt_number": 3
    },
    {
     "cell_type": "code",
     "collapsed": false,
     "input": [
      "keyDict = dict(zip(cipherAlphabet,plaintextAlphabet))\n",
      "plainText = smashText\n",
      "\n",
      "for i, j in keyDict.iteritems():\n",
      "    plainText = plainText.replace(i, j)\n",
      "    \n",
      "print plainText"
     ],
     "language": "python",
     "metadata": {},
     "outputs": [
      {
       "output_type": "stream",
       "stream": "stdout",
       "text": [
        "tUVF VF tUe eAPELCteQ teKt LBH JNAt tB QePBQe\n"
       ]
      }
     ],
     "prompt_number": 4
    },
    {
     "cell_type": "markdown",
     "metadata": {},
     "source": [
      "We can make some educated guesses from here. Note that we won't be guaranteed a unique solution for our plaintext alphabet because some of the characters in the cipher alphabet are never used.  But we can make enough guesses to get enough of the plaintext alphabet to decrypt the message."
     ]
    },
    {
     "cell_type": "code",
     "collapsed": false,
     "input": [
      "plaintextAlphabet = ['n','o','p','D','r','s','t','u','I','w','x','y','M','a','O','c','d','e','S','T','h','i','W','X','Y','Z']"
     ],
     "language": "python",
     "metadata": {},
     "outputs": [],
     "prompt_number": 5
    },
    {
     "cell_type": "code",
     "collapsed": false,
     "input": [
      "keyDict = dict(zip(cipherAlphabet,plaintextAlphabet))\n",
      "plainText = smashText\n",
      "\n",
      "for i, j in keyDict.iteritems():\n",
      "    plainText = plainText.replace(i, j)\n",
      "    \n",
      "print plainText"
     ],
     "language": "python",
     "metadata": {},
     "outputs": [
      {
       "output_type": "stream",
       "stream": "stdout",
       "text": [
        "this is the encrypted text you want to decode\n"
       ]
      }
     ],
     "prompt_number": 6
    }
   ],
   "metadata": {}
  }
 ]
}